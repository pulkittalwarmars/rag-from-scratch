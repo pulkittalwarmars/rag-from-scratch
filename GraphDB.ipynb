{
 "cells": [
  {
   "cell_type": "code",
   "execution_count": 1,
   "metadata": {},
   "outputs": [
    {
     "data": {
      "text/plain": [
       "True"
      ]
     },
     "execution_count": 1,
     "metadata": {},
     "output_type": "execute_result"
    }
   ],
   "source": [
    "from dotenv import load_dotenv\n",
    "load_dotenv()"
   ]
  },
  {
   "cell_type": "code",
   "execution_count": 2,
   "metadata": {},
   "outputs": [],
   "source": [
    "import os\n",
    "os.environ['LANGCHAIN_TRACING_V2'] = 'true'\n",
    "os.environ['LANGCHAIN_ENDPOINT'] = 'https://api.smith.langchain.com'\n",
    "os.environ['LANGCHAIN_API_KEY'] = \"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\""
   ]
  },
  {
   "cell_type": "code",
   "execution_count": 3,
   "metadata": {},
   "outputs": [],
   "source": [
    "os.environ['AZURE_OPENAI_API_KEY'] = os.getenv(\"AZURE_OPENAI_API_KEY\")"
   ]
  },
  {
   "cell_type": "code",
   "execution_count": 4,
   "metadata": {},
   "outputs": [],
   "source": [
    "from langchain_openai import AzureChatOpenAI\n",
    "llm = AzureChatOpenAI(\n",
    "    model=\"gpt_4o\",\n",
    "    azure_deployment=\"odda_gpt\",\n",
    "    azure_endpoint=os.getenv(\"AZURE_OPENAI_ENDPOINT\"),\n",
    "    openai_api_type=os.getenv(\"AZURE_OPENAI_API_TYPE\"),\n",
    "    api_version=os.getenv(\"AZURE_OPENAI_VERSION\"),\n",
    "    temperature=0,\n",
    "    max_retries=0\n",
    ")"
   ]
  },
  {
   "cell_type": "code",
   "execution_count": 5,
   "metadata": {},
   "outputs": [],
   "source": [
    "from langchain_community.graphs import Neo4jGraph\n",
    "\n",
    "# GraphDB configuration\n",
    "\n",
    "graph=Neo4jGraph(\n",
    "    url=os.getenv(\"NEO4J_URI\"),\n",
    "    username=os.getenv(\"NEO4J_USERNAME\"),\n",
    "    password=os.getenv(\"NEO4J_PASSWORD\")\n",
    ")"
   ]
  },
  {
   "cell_type": "code",
   "execution_count": 6,
   "metadata": {},
   "outputs": [
    {
     "data": {
      "text/plain": [
       "<langchain_community.graphs.neo4j_graph.Neo4jGraph at 0x10ac2bd70>"
      ]
     },
     "execution_count": 6,
     "metadata": {},
     "output_type": "execute_result"
    }
   ],
   "source": [
    "graph"
   ]
  },
  {
   "cell_type": "code",
   "execution_count": 7,
   "metadata": {},
   "outputs": [
    {
     "data": {
      "text/plain": [
       "AzureChatOpenAI(client=<openai.resources.chat.completions.Completions object at 0x10ac2a240>, async_client=<openai.resources.chat.completions.AsyncCompletions object at 0x10ac2b650>, model_name='gpt_4o', temperature=0.0, openai_api_key=SecretStr('**********'), openai_proxy='', max_retries=0, azure_endpoint='https://mwoddadatasci1055devai.openai.azure.com/', deployment_name='odda_gpt', openai_api_version='2024-05-01-preview', openai_api_type='azure')"
      ]
     },
     "execution_count": 7,
     "metadata": {},
     "output_type": "execute_result"
    }
   ],
   "source": [
    "llm"
   ]
  },
  {
   "cell_type": "code",
   "execution_count": 8,
   "metadata": {},
   "outputs": [],
   "source": [
    "from langchain_core.documents import Document\n",
    "\n",
    "\n",
    "text = \"\"\"\n",
    "Elon Reeve Musk (born June 28, 1971) is a businessman and investor known for his key roles in space\n",
    "company SpaceX and automotive company Tesla, Inc. Other involvements include ownership of X Corp.,\n",
    "formerly Twitter, and his role in the founding of The Boring Company, xAI, Neuralink and OpenAI.\n",
    "He is one of the wealthiest people in the world; as of July 2024, Forbes estimates his net worth to be\n",
    "US$221 billion.Musk was born in Pretoria to Maye and engineer Errol Musk, and briefly attended\n",
    "the University of Pretoria before immigrating to Canada at age 18, acquiring citizenship through\n",
    "his Canadian-born mother. Two years later, he matriculated at Queen's University at Kingston in Canada.\n",
    "Musk later transferred to the University of Pennsylvania and received bachelor's degrees in economics\n",
    "and physics. He moved to California in 1995 to attend Stanford University, but dropped out after \n",
    "two days and, with his brother Kimbal, co-founded online city guide software company Zip2.\n",
    "\"\"\"\n",
    "\n",
    "documents=[Document(page_content=text)]"
   ]
  },
  {
   "cell_type": "code",
   "execution_count": 9,
   "metadata": {},
   "outputs": [
    {
     "data": {
      "text/plain": [
       "[Document(page_content=\"\\nElon Reeve Musk (born June 28, 1971) is a businessman and investor known for his key roles in space\\ncompany SpaceX and automotive company Tesla, Inc. Other involvements include ownership of X Corp.,\\nformerly Twitter, and his role in the founding of The Boring Company, xAI, Neuralink and OpenAI.\\nHe is one of the wealthiest people in the world; as of July 2024, Forbes estimates his net worth to be\\nUS$221 billion.Musk was born in Pretoria to Maye and engineer Errol Musk, and briefly attended\\nthe University of Pretoria before immigrating to Canada at age 18, acquiring citizenship through\\nhis Canadian-born mother. Two years later, he matriculated at Queen's University at Kingston in Canada.\\nMusk later transferred to the University of Pennsylvania and received bachelor's degrees in economics\\nand physics. He moved to California in 1995 to attend Stanford University, but dropped out after \\ntwo days and, with his brother Kimbal, co-founded online city guide software company Zip2.\\n\")]"
      ]
     },
     "execution_count": 9,
     "metadata": {},
     "output_type": "execute_result"
    }
   ],
   "source": [
    "documents"
   ]
  },
  {
   "cell_type": "code",
   "execution_count": 10,
   "metadata": {},
   "outputs": [],
   "source": [
    "from langchain_experimental.graph_transformers import LLMGraphTransformer\n",
    "\n",
    "llm_transformer=LLMGraphTransformer(llm=llm)"
   ]
  },
  {
   "cell_type": "code",
   "execution_count": 11,
   "metadata": {},
   "outputs": [
    {
     "data": {
      "text/plain": [
       "<langchain_experimental.graph_transformers.llm.LLMGraphTransformer at 0x10d441fd0>"
      ]
     },
     "execution_count": 11,
     "metadata": {},
     "output_type": "execute_result"
    }
   ],
   "source": [
    "llm_transformer"
   ]
  },
  {
   "cell_type": "code",
   "execution_count": 12,
   "metadata": {},
   "outputs": [],
   "source": [
    "graph_documents=llm_transformer.convert_to_graph_documents(documents)"
   ]
  },
  {
   "cell_type": "code",
   "execution_count": 13,
   "metadata": {},
   "outputs": [
    {
     "data": {
      "text/plain": [
       "[GraphDocument(nodes=[Node(id='Elon Reeve Musk', type='Person'), Node(id='Spacex', type='Organization'), Node(id='Tesla, Inc.', type='Organization'), Node(id='X Corp.', type='Organization'), Node(id='The Boring Company', type='Organization'), Node(id='Xai', type='Organization'), Node(id='Neuralink', type='Organization'), Node(id='Openai', type='Organization'), Node(id='Forbes', type='Organization'), Node(id='Maye', type='Person'), Node(id='Errol Musk', type='Person'), Node(id='University Of Pretoria', type='Organization'), Node(id='Canada', type='Location'), Node(id=\"Queen'S University At Kingston\", type='Organization'), Node(id='University Of Pennsylvania', type='Organization'), Node(id='California', type='Location'), Node(id='Stanford University', type='Organization'), Node(id='Kimbal', type='Person'), Node(id='Zip2', type='Organization')], relationships=[Relationship(source=Node(id='Elon Reeve Musk', type='Person'), target=Node(id='Spacex', type='Organization'), type='KEY_ROLE'), Relationship(source=Node(id='Elon Reeve Musk', type='Person'), target=Node(id='Tesla, Inc.', type='Organization'), type='KEY_ROLE'), Relationship(source=Node(id='Elon Reeve Musk', type='Person'), target=Node(id='X Corp.', type='Organization'), type='OWNERSHIP'), Relationship(source=Node(id='Elon Reeve Musk', type='Person'), target=Node(id='The Boring Company', type='Organization'), type='FOUNDER'), Relationship(source=Node(id='Elon Reeve Musk', type='Person'), target=Node(id='Xai', type='Organization'), type='FOUNDER'), Relationship(source=Node(id='Elon Reeve Musk', type='Person'), target=Node(id='Neuralink', type='Organization'), type='FOUNDER'), Relationship(source=Node(id='Elon Reeve Musk', type='Person'), target=Node(id='Openai', type='Organization'), type='FOUNDER'), Relationship(source=Node(id='Elon Reeve Musk', type='Person'), target=Node(id='Forbes', type='Organization'), type='MENTIONED_IN'), Relationship(source=Node(id='Elon Reeve Musk', type='Person'), target=Node(id='Maye', type='Person'), type='CHILD_OF'), Relationship(source=Node(id='Elon Reeve Musk', type='Person'), target=Node(id='Errol Musk', type='Person'), type='CHILD_OF'), Relationship(source=Node(id='Elon Reeve Musk', type='Person'), target=Node(id='University Of Pretoria', type='Organization'), type='ATTENDED'), Relationship(source=Node(id='Elon Reeve Musk', type='Person'), target=Node(id='Canada', type='Location'), type='IMMIGRATED_TO'), Relationship(source=Node(id='Elon Reeve Musk', type='Person'), target=Node(id=\"Queen'S University At Kingston\", type='Organization'), type='ATTENDED'), Relationship(source=Node(id='Elon Reeve Musk', type='Person'), target=Node(id='University Of Pennsylvania', type='Organization'), type='ATTENDED'), Relationship(source=Node(id='Elon Reeve Musk', type='Person'), target=Node(id='California', type='Location'), type='MOVED_TO'), Relationship(source=Node(id='Elon Reeve Musk', type='Person'), target=Node(id='Stanford University', type='Organization'), type='ATTENDED'), Relationship(source=Node(id='Elon Reeve Musk', type='Person'), target=Node(id='Kimbal', type='Person'), type='CO-FOUNDED_WITH'), Relationship(source=Node(id='Elon Reeve Musk', type='Person'), target=Node(id='Zip2', type='Organization'), type='CO-FOUNDED')], source=Document(page_content=\"\\nElon Reeve Musk (born June 28, 1971) is a businessman and investor known for his key roles in space\\ncompany SpaceX and automotive company Tesla, Inc. Other involvements include ownership of X Corp.,\\nformerly Twitter, and his role in the founding of The Boring Company, xAI, Neuralink and OpenAI.\\nHe is one of the wealthiest people in the world; as of July 2024, Forbes estimates his net worth to be\\nUS$221 billion.Musk was born in Pretoria to Maye and engineer Errol Musk, and briefly attended\\nthe University of Pretoria before immigrating to Canada at age 18, acquiring citizenship through\\nhis Canadian-born mother. Two years later, he matriculated at Queen's University at Kingston in Canada.\\nMusk later transferred to the University of Pennsylvania and received bachelor's degrees in economics\\nand physics. He moved to California in 1995 to attend Stanford University, but dropped out after \\ntwo days and, with his brother Kimbal, co-founded online city guide software company Zip2.\\n\"))]"
      ]
     },
     "execution_count": 13,
     "metadata": {},
     "output_type": "execute_result"
    }
   ],
   "source": [
    "graph_documents"
   ]
  },
  {
   "cell_type": "code",
   "execution_count": 14,
   "metadata": {},
   "outputs": [
    {
     "data": {
      "text/plain": [
       "[Node(id='Elon Reeve Musk', type='Person'),\n",
       " Node(id='Spacex', type='Organization'),\n",
       " Node(id='Tesla, Inc.', type='Organization'),\n",
       " Node(id='X Corp.', type='Organization'),\n",
       " Node(id='The Boring Company', type='Organization'),\n",
       " Node(id='Xai', type='Organization'),\n",
       " Node(id='Neuralink', type='Organization'),\n",
       " Node(id='Openai', type='Organization'),\n",
       " Node(id='Forbes', type='Organization'),\n",
       " Node(id='Maye', type='Person'),\n",
       " Node(id='Errol Musk', type='Person'),\n",
       " Node(id='University Of Pretoria', type='Organization'),\n",
       " Node(id='Canada', type='Location'),\n",
       " Node(id=\"Queen'S University At Kingston\", type='Organization'),\n",
       " Node(id='University Of Pennsylvania', type='Organization'),\n",
       " Node(id='California', type='Location'),\n",
       " Node(id='Stanford University', type='Organization'),\n",
       " Node(id='Kimbal', type='Person'),\n",
       " Node(id='Zip2', type='Organization')]"
      ]
     },
     "execution_count": 14,
     "metadata": {},
     "output_type": "execute_result"
    }
   ],
   "source": [
    "graph_documents[0].nodes"
   ]
  },
  {
   "cell_type": "code",
   "execution_count": 15,
   "metadata": {},
   "outputs": [
    {
     "data": {
      "text/plain": [
       "[Relationship(source=Node(id='Elon Reeve Musk', type='Person'), target=Node(id='Spacex', type='Organization'), type='KEY_ROLE'),\n",
       " Relationship(source=Node(id='Elon Reeve Musk', type='Person'), target=Node(id='Tesla, Inc.', type='Organization'), type='KEY_ROLE'),\n",
       " Relationship(source=Node(id='Elon Reeve Musk', type='Person'), target=Node(id='X Corp.', type='Organization'), type='OWNERSHIP'),\n",
       " Relationship(source=Node(id='Elon Reeve Musk', type='Person'), target=Node(id='The Boring Company', type='Organization'), type='FOUNDER'),\n",
       " Relationship(source=Node(id='Elon Reeve Musk', type='Person'), target=Node(id='Xai', type='Organization'), type='FOUNDER'),\n",
       " Relationship(source=Node(id='Elon Reeve Musk', type='Person'), target=Node(id='Neuralink', type='Organization'), type='FOUNDER'),\n",
       " Relationship(source=Node(id='Elon Reeve Musk', type='Person'), target=Node(id='Openai', type='Organization'), type='FOUNDER'),\n",
       " Relationship(source=Node(id='Elon Reeve Musk', type='Person'), target=Node(id='Forbes', type='Organization'), type='MENTIONED_IN'),\n",
       " Relationship(source=Node(id='Elon Reeve Musk', type='Person'), target=Node(id='Maye', type='Person'), type='CHILD_OF'),\n",
       " Relationship(source=Node(id='Elon Reeve Musk', type='Person'), target=Node(id='Errol Musk', type='Person'), type='CHILD_OF'),\n",
       " Relationship(source=Node(id='Elon Reeve Musk', type='Person'), target=Node(id='University Of Pretoria', type='Organization'), type='ATTENDED'),\n",
       " Relationship(source=Node(id='Elon Reeve Musk', type='Person'), target=Node(id='Canada', type='Location'), type='IMMIGRATED_TO'),\n",
       " Relationship(source=Node(id='Elon Reeve Musk', type='Person'), target=Node(id=\"Queen'S University At Kingston\", type='Organization'), type='ATTENDED'),\n",
       " Relationship(source=Node(id='Elon Reeve Musk', type='Person'), target=Node(id='University Of Pennsylvania', type='Organization'), type='ATTENDED'),\n",
       " Relationship(source=Node(id='Elon Reeve Musk', type='Person'), target=Node(id='California', type='Location'), type='MOVED_TO'),\n",
       " Relationship(source=Node(id='Elon Reeve Musk', type='Person'), target=Node(id='Stanford University', type='Organization'), type='ATTENDED'),\n",
       " Relationship(source=Node(id='Elon Reeve Musk', type='Person'), target=Node(id='Kimbal', type='Person'), type='CO-FOUNDED_WITH'),\n",
       " Relationship(source=Node(id='Elon Reeve Musk', type='Person'), target=Node(id='Zip2', type='Organization'), type='CO-FOUNDED')]"
      ]
     },
     "execution_count": 15,
     "metadata": {},
     "output_type": "execute_result"
    }
   ],
   "source": [
    "graph_documents[0].relationships"
   ]
  },
  {
   "cell_type": "code",
   "execution_count": 16,
   "metadata": {},
   "outputs": [],
   "source": [
    "#### Load the movies dataset\n",
    "\n",
    "movie_query=\"\"\" \n",
    "LOAD CSV WITH HEADERS FROM\n",
    "'https://raw.githubusercontent.com/tomasonjo/blog-datasets/main/movies/movies_small.csv' as row\n",
    "\n",
    "MERGE(m:Movie{id:row.movieId})\n",
    "SET m.released = date(row.released),\n",
    "    m.title = row.title,\n",
    "    m.imdbRating = toFloat(row.imdbRating)\n",
    "FOREACH (director in split(row.director, '|') |\n",
    "    MERGE (p:Person {name:trim(director)})\n",
    "    MERGE (p)-[:DIRECTED]->(m))\n",
    "FOREACH (actor in split(row.actors, '|') |\n",
    "    MERGE (p:Person {name:trim(actor)})\n",
    "    MERGE (p)-[:ACTED_IN]->(m))\n",
    "FOREACH (genre in split(row.genres, '|') |\n",
    "    MERGE (g:Genre {name:trim(genre)})\n",
    "    MERGE (m)-[:IN_GENRE]->(g))\n",
    "\"\"\""
   ]
  },
  {
   "cell_type": "code",
   "execution_count": 17,
   "metadata": {},
   "outputs": [
    {
     "data": {
      "text/plain": [
       "<langchain_community.graphs.neo4j_graph.Neo4jGraph at 0x10ac2bd70>"
      ]
     },
     "execution_count": 17,
     "metadata": {},
     "output_type": "execute_result"
    }
   ],
   "source": [
    "graph"
   ]
  },
  {
   "cell_type": "code",
   "execution_count": 18,
   "metadata": {},
   "outputs": [
    {
     "data": {
      "text/plain": [
       "[]"
      ]
     },
     "execution_count": 18,
     "metadata": {},
     "output_type": "execute_result"
    }
   ],
   "source": [
    "graph.query(movie_query)"
   ]
  },
  {
   "cell_type": "code",
   "execution_count": 19,
   "metadata": {},
   "outputs": [
    {
     "name": "stdout",
     "output_type": "stream",
     "text": [
      "Node properties:\n",
      "Person {name: STRING, job: STRING}\n",
      "Movie {release: INTEGER, title: STRING, id: STRING, released: DATE, imdbRating: FLOAT}\n",
      "Genre {name: STRING}\n",
      "Relationship properties:\n",
      "\n",
      "The relationships:\n",
      "(:Person)-[:ACTED_IN]->(:Movie)\n",
      "(:Person)-[:DIRECTED]->(:Movie)\n",
      "(:Movie)-[:IN_GENRE]->(:Genre)\n"
     ]
    }
   ],
   "source": [
    "graph.refresh_schema()\n",
    "print(graph.schema)"
   ]
  },
  {
   "cell_type": "code",
   "execution_count": 20,
   "metadata": {},
   "outputs": [
    {
     "data": {
      "text/plain": [
       "GraphCypherQAChain(verbose=True, graph=<langchain_community.graphs.neo4j_graph.Neo4jGraph object at 0x10ac2bd70>, cypher_generation_chain=LLMChain(prompt=PromptTemplate(input_variables=['question', 'schema'], template='Task:Generate Cypher statement to query a graph database.\\nInstructions:\\nUse only the provided relationship types and properties in the schema.\\nDo not use any other relationship types or properties that are not provided.\\nSchema:\\n{schema}\\nNote: Do not include any explanations or apologies in your responses.\\nDo not respond to any questions that might ask anything else than for you to construct a Cypher statement.\\nDo not include any text except the generated Cypher statement.\\n\\nThe question is:\\n{question}'), llm=AzureChatOpenAI(client=<openai.resources.chat.completions.Completions object at 0x10ac2a240>, async_client=<openai.resources.chat.completions.AsyncCompletions object at 0x10ac2b650>, model_name='gpt_4o', temperature=0.0, openai_api_key=SecretStr('**********'), openai_proxy='', max_retries=0, azure_endpoint='https://mwoddadatasci1055devai.openai.azure.com/', deployment_name='odda_gpt', openai_api_version='2024-05-01-preview', openai_api_type='azure')), qa_chain=LLMChain(prompt=PromptTemplate(input_variables=['context', 'question'], template=\"You are an assistant that helps to form nice and human understandable answers.\\nThe information part contains the provided information that you must use to construct an answer.\\nThe provided information is authoritative, you must never doubt it or try to use your internal knowledge to correct it.\\nMake the answer sound as a response to the question. Do not mention that you based the result on the given information.\\nHere is an example:\\n\\nQuestion: Which managers own Neo4j stocks?\\nContext:[manager:CTL LLC, manager:JANE STREET GROUP LLC]\\nHelpful Answer: CTL LLC, JANE STREET GROUP LLC owns Neo4j stocks.\\n\\nFollow this example when generating answers.\\nIf the provided information is empty, say that you don't know the answer.\\nInformation:\\n{context}\\n\\nQuestion: {question}\\nHelpful Answer:\"), llm=AzureChatOpenAI(client=<openai.resources.chat.completions.Completions object at 0x10ac2a240>, async_client=<openai.resources.chat.completions.AsyncCompletions object at 0x10ac2b650>, model_name='gpt_4o', temperature=0.0, openai_api_key=SecretStr('**********'), openai_proxy='', max_retries=0, azure_endpoint='https://mwoddadatasci1055devai.openai.azure.com/', deployment_name='odda_gpt', openai_api_version='2024-05-01-preview', openai_api_type='azure')), graph_schema='Node properties are the following:\\nPerson {name: STRING, job: STRING},Movie {release: INTEGER, title: STRING, id: STRING, released: DATE, imdbRating: FLOAT},Genre {name: STRING}\\nRelationship properties are the following:\\n\\nThe relationships are the following:\\n(:Person)-[:ACTED_IN]->(:Movie),(:Person)-[:DIRECTED]->(:Movie),(:Movie)-[:IN_GENRE]->(:Genre)')"
      ]
     },
     "execution_count": 20,
     "metadata": {},
     "output_type": "execute_result"
    }
   ],
   "source": [
    "from langchain.chains import GraphCypherQAChain\n",
    "chain = GraphCypherQAChain.from_llm(llm=llm, graph=graph, verbose=True)\n",
    "chain"
   ]
  },
  {
   "cell_type": "code",
   "execution_count": 23,
   "metadata": {},
   "outputs": [
    {
     "name": "stdout",
     "output_type": "stream",
     "text": [
      "\n",
      "\n",
      "\u001b[1m> Entering new GraphCypherQAChain chain...\u001b[0m\n",
      "Generated Cypher:\n",
      "\u001b[32;1m\u001b[1;3mcypher\n",
      "MATCH (p:Person)-[:DIRECTED]->(m:Movie {title: \"GoldenEye\"})\n",
      "RETURN p.name\n",
      "\u001b[0m\n",
      "Full Context:\n",
      "\u001b[32;1m\u001b[1;3m[{'p.name': 'Martin Campbell'}]\u001b[0m\n",
      "\n",
      "\u001b[1m> Finished chain.\u001b[0m\n"
     ]
    },
    {
     "data": {
      "text/plain": [
       "{'query': 'Who was the director of the movie GoldenEye',\n",
       " 'result': 'Martin Campbell was the director of the movie GoldenEye.'}"
      ]
     },
     "execution_count": 23,
     "metadata": {},
     "output_type": "execute_result"
    }
   ],
   "source": [
    "response=chain.invoke({'query':\"Who was the director of the movie GoldenEye\"})\n",
    "response"
   ]
  },
  {
   "cell_type": "code",
   "execution_count": 25,
   "metadata": {},
   "outputs": [
    {
     "name": "stdout",
     "output_type": "stream",
     "text": [
      "\n",
      "\n",
      "\u001b[1m> Entering new GraphCypherQAChain chain...\u001b[0m\n",
      "Generated Cypher:\n",
      "\u001b[32;1m\u001b[1;3mcypher\n",
      "MATCH (p1:Person)-[:ACTED_IN]->(m:Movie {title: \"GoldenEye\"}), (p2:Person)-[:DIRECTED]->(m)\n",
      "RETURN p1.name AS Actor, p2.name AS Director\n",
      "\u001b[0m\n",
      "Full Context:\n",
      "\u001b[32;1m\u001b[1;3m[{'Actor': 'Pierce Brosnan', 'Director': 'Martin Campbell'}, {'Actor': 'Famke Janssen', 'Director': 'Martin Campbell'}, {'Actor': 'Sean Bean', 'Director': 'Martin Campbell'}, {'Actor': 'Izabella Scorupco', 'Director': 'Martin Campbell'}]\u001b[0m\n",
      "\n",
      "\u001b[1m> Finished chain.\u001b[0m\n"
     ]
    },
    {
     "data": {
      "text/plain": [
       "{'query': 'Who acted in the movie GoldenEye and who directored it',\n",
       " 'result': 'Pierce Brosnan, Famke Janssen, Sean Bean, and Izabella Scorupco acted in the movie GoldenEye, and it was directed by Martin Campbell.'}"
      ]
     },
     "execution_count": 25,
     "metadata": {},
     "output_type": "execute_result"
    }
   ],
   "source": [
    "response=chain.invoke({'query':\"Who acted in the movie GoldenEye and who directored it\"})\n",
    "response"
   ]
  },
  {
   "cell_type": "markdown",
   "metadata": {},
   "source": []
  }
 ],
 "metadata": {
  "kernelspec": {
   "display_name": "Python 3",
   "language": "python",
   "name": "python3"
  },
  "language_info": {
   "codemirror_mode": {
    "name": "ipython",
    "version": 3
   },
   "file_extension": ".py",
   "mimetype": "text/x-python",
   "name": "python",
   "nbconvert_exporter": "python",
   "pygments_lexer": "ipython3",
   "version": "3.12.0"
  }
 },
 "nbformat": 4,
 "nbformat_minor": 2
}
